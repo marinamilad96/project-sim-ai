{
 "cells": [
  {
   "cell_type": "code",
   "execution_count": 1,
   "metadata": {},
   "outputs": [],
   "source": [
    "#!pip install dash\n",
    "import dash\n",
    "from dash import dcc, html, dash_table\n",
    "from dash.dependencies import Input, Output\n",
    "import plotly.express as px\n",
    "import pandas as pd\n",
    "import plotly.graph_objects as go\n",
    "import pandas as pd"
   ]
  },
  {
   "cell_type": "markdown",
   "metadata": {},
   "source": [
    "Run Treecluster with different Threshold\n",
    "\n",
    "| Use Case               | Recommended Threshold Range      |\n",
    "|------------------------|----------------------------------|\n",
    "| Outbreak detection     | 0.015–0.03                       |\n",
    "| Species delimitation   | 0.02–0.05                        |\n",
    "| Deep lineage grouping  | 0.05–0.1+                        |\n",
    "\n",
    "\n",
    "To analyze the clusters later on and check the sublineages"
   ]
  },
  {
   "cell_type": "code",
   "execution_count": 2,
   "metadata": {},
   "outputs": [
    {
     "data": {
      "text/plain": [
       "'Example of how to run the script from the command line:\\npython TreeCluster.py -i /path/to/input/tree.nwk -o /path/to/output/cluster.txt -t 0.01\\n'"
      ]
     },
     "execution_count": 2,
     "metadata": {},
     "output_type": "execute_result"
    }
   ],
   "source": [
    "#Run This Script in Terminal\n",
    "'''Run this script in the terminal with the following command for help:\n",
    "python TreeCluster.py -h\n",
    "'''\n",
    "#!TreeCluster.py -h\n",
    "\n",
    "'''Example of how to run the script from the command line:\n",
    "python TreeCluster.py -i /path/to/input/tree.nwk -o /path/to/output/cluster.txt -t 0.01\n",
    "'''\n",
    "#!TreeCluster.py -i /Users/MiladM-Dev/../tree.nwk -o /Users/MiladM-Dev/../trial0.01.txt -t 0.01"
   ]
  },
  {
   "cell_type": "markdown",
   "metadata": {},
   "source": [
    "Read files to prepare it for merging"
   ]
  },
  {
   "cell_type": "code",
   "execution_count": 3,
   "metadata": {},
   "outputs": [],
   "source": [
    "metadata_tsv_file = pd.read_csv('/Users/MiladM-Dev/Documents/1PhD/project-1-N450/project-1.1-gendata/Nextstrain/trial-1/results/metadata.tsv', sep='\\t')\n",
    "\n",
    "#seq_index_tsv_file view\n",
    "#metadata_tsv_file"
   ]
  },
  {
   "cell_type": "code",
   "execution_count": 4,
   "metadata": {},
   "outputs": [],
   "source": [
    "cluster015 = pd.read_csv('/Users/MiladM-Dev/Documents/1PhD/project-1-N450/project-1.1-gendata/Nextstrain/trial-1/results/clusters/trial0.015.txt', sep='\\t')\n",
    "cluster05 = pd.read_csv('/Users/MiladM-Dev/Documents/1PhD/project-1-N450/project-1.1-gendata/Nextstrain/trial-1/results/clusters/trial0.05.txt', sep='\\t')\n",
    "cluster03 = pd.read_csv('/Users/MiladM-Dev/Documents/1PhD/project-1-N450/project-1.1-gendata/Nextstrain/trial-1/results/clusters/trial0.03.txt', sep='\\t')\n",
    "cluster01 = pd.read_csv('/Users/MiladM-Dev/Documents/1PhD/project-1-N450/project-1.1-gendata/Nextstrain/trial-1/results/clusters/trial0.01.txt', sep='\\t')\n",
    "cluster1 = pd.read_csv('/Users/MiladM-Dev/Documents/1PhD/project-1-N450/project-1.1-gendata/Nextstrain/trial-1/results/clusters/trial0.1.txt', sep='\\t')"
   ]
  },
  {
   "cell_type": "code",
   "execution_count": 5,
   "metadata": {},
   "outputs": [],
   "source": [
    "#cluster015['ClusterNumber'].value_counts()\n",
    "\n"
   ]
  },
  {
   "cell_type": "markdown",
   "metadata": {},
   "source": [
    "### describe the clusters data"
   ]
  },
  {
   "cell_type": "code",
   "execution_count": 6,
   "metadata": {},
   "outputs": [
    {
     "data": {
      "text/plain": [
       "76"
      ]
     },
     "execution_count": 6,
     "metadata": {},
     "output_type": "execute_result"
    }
   ],
   "source": [
    "'''number of clusters'''\n",
    "cluster015['ClusterNumber'].nunique()#"
   ]
  },
  {
   "cell_type": "code",
   "execution_count": 7,
   "metadata": {},
   "outputs": [
    {
     "data": {
      "text/html": [
       "<div>\n",
       "<style scoped>\n",
       "    .dataframe tbody tr th:only-of-type {\n",
       "        vertical-align: middle;\n",
       "    }\n",
       "\n",
       "    .dataframe tbody tr th {\n",
       "        vertical-align: top;\n",
       "    }\n",
       "\n",
       "    .dataframe thead th {\n",
       "        text-align: right;\n",
       "    }\n",
       "</style>\n",
       "<table border=\"1\" class=\"dataframe\">\n",
       "  <thead>\n",
       "    <tr style=\"text-align: right;\">\n",
       "      <th></th>\n",
       "      <th>ClusterNumber</th>\n",
       "    </tr>\n",
       "  </thead>\n",
       "  <tbody>\n",
       "    <tr>\n",
       "      <th>count</th>\n",
       "      <td>3463.0</td>\n",
       "    </tr>\n",
       "    <tr>\n",
       "      <th>min</th>\n",
       "      <td>1.0</td>\n",
       "    </tr>\n",
       "    <tr>\n",
       "      <th>max</th>\n",
       "      <td>4.0</td>\n",
       "    </tr>\n",
       "  </tbody>\n",
       "</table>\n",
       "</div>"
      ],
      "text/plain": [
       "       ClusterNumber\n",
       "count         3463.0\n",
       "min              1.0\n",
       "max              4.0"
      ]
     },
     "execution_count": 7,
     "metadata": {},
     "output_type": "execute_result"
    }
   ],
   "source": [
    "\n",
    "cluster1.describe().loc[[\"count\", \"min\", \"max\"]]\n",
    "#cluster1.unique()\n"
   ]
  },
  {
   "cell_type": "code",
   "execution_count": 8,
   "metadata": {},
   "outputs": [
    {
     "data": {
      "text/html": [
       "<div>\n",
       "<style scoped>\n",
       "    .dataframe tbody tr th:only-of-type {\n",
       "        vertical-align: middle;\n",
       "    }\n",
       "\n",
       "    .dataframe tbody tr th {\n",
       "        vertical-align: top;\n",
       "    }\n",
       "\n",
       "    .dataframe thead th {\n",
       "        text-align: right;\n",
       "    }\n",
       "</style>\n",
       "<table border=\"1\" class=\"dataframe\">\n",
       "  <thead>\n",
       "    <tr style=\"text-align: right;\">\n",
       "      <th></th>\n",
       "      <th>ClusterNumber</th>\n",
       "    </tr>\n",
       "  </thead>\n",
       "  <tbody>\n",
       "    <tr>\n",
       "      <th>count</th>\n",
       "      <td>3463.0</td>\n",
       "    </tr>\n",
       "    <tr>\n",
       "      <th>min</th>\n",
       "      <td>-1.0</td>\n",
       "    </tr>\n",
       "    <tr>\n",
       "      <th>max</th>\n",
       "      <td>142.0</td>\n",
       "    </tr>\n",
       "  </tbody>\n",
       "</table>\n",
       "</div>"
      ],
      "text/plain": [
       "       ClusterNumber\n",
       "count         3463.0\n",
       "min             -1.0\n",
       "max            142.0"
      ]
     },
     "execution_count": 8,
     "metadata": {},
     "output_type": "execute_result"
    }
   ],
   "source": [
    "cluster01.describe().loc[[\"count\", \"min\", \"max\"]]"
   ]
  },
  {
   "cell_type": "code",
   "execution_count": 9,
   "metadata": {},
   "outputs": [
    {
     "data": {
      "text/html": [
       "<div>\n",
       "<style scoped>\n",
       "    .dataframe tbody tr th:only-of-type {\n",
       "        vertical-align: middle;\n",
       "    }\n",
       "\n",
       "    .dataframe tbody tr th {\n",
       "        vertical-align: top;\n",
       "    }\n",
       "\n",
       "    .dataframe thead th {\n",
       "        text-align: right;\n",
       "    }\n",
       "</style>\n",
       "<table border=\"1\" class=\"dataframe\">\n",
       "  <thead>\n",
       "    <tr style=\"text-align: right;\">\n",
       "      <th></th>\n",
       "      <th>ClusterNumber</th>\n",
       "    </tr>\n",
       "  </thead>\n",
       "  <tbody>\n",
       "    <tr>\n",
       "      <th>count</th>\n",
       "      <td>3463.0</td>\n",
       "    </tr>\n",
       "    <tr>\n",
       "      <th>min</th>\n",
       "      <td>-1.0</td>\n",
       "    </tr>\n",
       "    <tr>\n",
       "      <th>max</th>\n",
       "      <td>19.0</td>\n",
       "    </tr>\n",
       "  </tbody>\n",
       "</table>\n",
       "</div>"
      ],
      "text/plain": [
       "       ClusterNumber\n",
       "count         3463.0\n",
       "min             -1.0\n",
       "max             19.0"
      ]
     },
     "execution_count": 9,
     "metadata": {},
     "output_type": "execute_result"
    }
   ],
   "source": [
    "cluster03.describe().loc[[\"count\", \"min\", \"max\"]]"
   ]
  },
  {
   "cell_type": "code",
   "execution_count": 10,
   "metadata": {},
   "outputs": [
    {
     "data": {
      "text/html": [
       "<div>\n",
       "<style scoped>\n",
       "    .dataframe tbody tr th:only-of-type {\n",
       "        vertical-align: middle;\n",
       "    }\n",
       "\n",
       "    .dataframe tbody tr th {\n",
       "        vertical-align: top;\n",
       "    }\n",
       "\n",
       "    .dataframe thead th {\n",
       "        text-align: right;\n",
       "    }\n",
       "</style>\n",
       "<table border=\"1\" class=\"dataframe\">\n",
       "  <thead>\n",
       "    <tr style=\"text-align: right;\">\n",
       "      <th></th>\n",
       "      <th>ClusterNumber</th>\n",
       "    </tr>\n",
       "  </thead>\n",
       "  <tbody>\n",
       "    <tr>\n",
       "      <th>count</th>\n",
       "      <td>3463.0</td>\n",
       "    </tr>\n",
       "    <tr>\n",
       "      <th>min</th>\n",
       "      <td>-1.0</td>\n",
       "    </tr>\n",
       "    <tr>\n",
       "      <th>max</th>\n",
       "      <td>10.0</td>\n",
       "    </tr>\n",
       "  </tbody>\n",
       "</table>\n",
       "</div>"
      ],
      "text/plain": [
       "       ClusterNumber\n",
       "count         3463.0\n",
       "min             -1.0\n",
       "max             10.0"
      ]
     },
     "execution_count": 10,
     "metadata": {},
     "output_type": "execute_result"
    }
   ],
   "source": [
    "cluster05.describe().loc[[\"count\", \"min\", \"max\"]]"
   ]
  },
  {
   "cell_type": "code",
   "execution_count": 11,
   "metadata": {},
   "outputs": [
    {
     "data": {
      "text/html": [
       "<div>\n",
       "<style scoped>\n",
       "    .dataframe tbody tr th:only-of-type {\n",
       "        vertical-align: middle;\n",
       "    }\n",
       "\n",
       "    .dataframe tbody tr th {\n",
       "        vertical-align: top;\n",
       "    }\n",
       "\n",
       "    .dataframe thead th {\n",
       "        text-align: right;\n",
       "    }\n",
       "</style>\n",
       "<table border=\"1\" class=\"dataframe\">\n",
       "  <thead>\n",
       "    <tr style=\"text-align: right;\">\n",
       "      <th></th>\n",
       "      <th>ClusterNumber</th>\n",
       "    </tr>\n",
       "  </thead>\n",
       "  <tbody>\n",
       "    <tr>\n",
       "      <th>count</th>\n",
       "      <td>3463.0</td>\n",
       "    </tr>\n",
       "    <tr>\n",
       "      <th>min</th>\n",
       "      <td>-1.0</td>\n",
       "    </tr>\n",
       "    <tr>\n",
       "      <th>max</th>\n",
       "      <td>75.0</td>\n",
       "    </tr>\n",
       "  </tbody>\n",
       "</table>\n",
       "</div>"
      ],
      "text/plain": [
       "       ClusterNumber\n",
       "count         3463.0\n",
       "min             -1.0\n",
       "max             75.0"
      ]
     },
     "execution_count": 11,
     "metadata": {},
     "output_type": "execute_result"
    }
   ],
   "source": [
    "cluster015.describe().loc[[\"count\", \"min\", \"max\"]]"
   ]
  },
  {
   "cell_type": "code",
   "execution_count": 12,
   "metadata": {},
   "outputs": [],
   "source": [
    "cluster_counts01 = cluster01['ClusterNumber'].value_counts().to_frame(name='Count')\n",
    "cluster_counts01.reset_index(inplace=True)\n",
    "cluster_counts01.columns = ['ClusterNumber01', 'Count']\n",
    "\n",
    "cluster_counts1 = cluster1['ClusterNumber'].value_counts().to_frame(name='Count')\n",
    "cluster_counts1.reset_index(inplace=True)\n",
    "cluster_counts1.columns = ['ClusterNumber1', 'Count']\n",
    "\n",
    "cluster_counts03 = cluster03['ClusterNumber'].value_counts().to_frame(name='Count')\n",
    "cluster_counts03.reset_index(inplace=True)  \n",
    "cluster_counts03.columns = ['ClusterNumber03', 'Count']\n",
    "\n",
    "cluster_counts05 = cluster05['ClusterNumber'].value_counts().to_frame(name='Count')\n",
    "cluster_counts05.reset_index(inplace=True)\n",
    "cluster_counts05.columns = ['ClusterNumber05', 'Count']\n",
    "\n",
    "cluster_counts015 = cluster015['ClusterNumber'].value_counts().to_frame(name='Count')\n",
    "cluster_counts015.reset_index(inplace=True)\n",
    "cluster_counts015.columns = ['ClusterNumber015', 'Count']\n",
    "\n",
    "cluster_counts_combined = pd.concat([cluster_counts01, cluster_counts015, cluster_counts03, cluster_counts05,  cluster_counts1], axis=1)\n",
    "cluster_counts_combined.to_csv('/Users/MiladM-Dev/Documents/1PhD/project-1-N450/project-1.1-gendata/Nextstrain/trial-1/results/clusters/cluster_counts_combined.csv', index=False)  \n"
   ]
  },
  {
   "cell_type": "code",
   "execution_count": 13,
   "metadata": {},
   "outputs": [
    {
     "ename": "NameError",
     "evalue": "name 'seq_index_tsv_file' is not defined",
     "output_type": "error",
     "traceback": [
      "\u001b[0;31m---------------------------------------------------------------------------\u001b[0m",
      "\u001b[0;31mNameError\u001b[0m                                 Traceback (most recent call last)",
      "Cell \u001b[0;32mIn[13], line 2\u001b[0m\n\u001b[1;32m      1\u001b[0m \u001b[38;5;66;03m#rename\u001b[39;00m\n\u001b[0;32m----> 2\u001b[0m seq_index_tsv_file\u001b[38;5;241m=\u001b[39m \u001b[43mseq_index_tsv_file\u001b[49m\u001b[38;5;241m.\u001b[39mrename(columns\u001b[38;5;241m=\u001b[39m{\u001b[38;5;124m'\u001b[39m\u001b[38;5;124mstrain\u001b[39m\u001b[38;5;124m'\u001b[39m: \u001b[38;5;124m'\u001b[39m\u001b[38;5;124mID\u001b[39m\u001b[38;5;124m'\u001b[39m})\n\u001b[1;32m      3\u001b[0m metadata_tsv_file\u001b[38;5;241m=\u001b[39m metadata_tsv_file\u001b[38;5;241m.\u001b[39mrename(columns\u001b[38;5;241m=\u001b[39m{\u001b[38;5;124m'\u001b[39m\u001b[38;5;124mname\u001b[39m\u001b[38;5;124m'\u001b[39m: \u001b[38;5;124m'\u001b[39m\u001b[38;5;124mID\u001b[39m\u001b[38;5;124m'\u001b[39m})\n",
      "\u001b[0;31mNameError\u001b[0m: name 'seq_index_tsv_file' is not defined"
     ]
    }
   ],
   "source": [
    "#rename\n",
    "seq_index_tsv_file= seq_index_tsv_file.rename(columns={'strain': 'ID'})\n",
    "metadata_tsv_file= metadata_tsv_file.rename(columns={'name': 'ID'})"
   ]
  },
  {
   "cell_type": "code",
   "execution_count": null,
   "metadata": {},
   "outputs": [],
   "source": [
    "#merge\n",
    "\n",
    "merged_df = pd.merge(metadata_tsv_file, seq_index_tsv_file , on='ID')\n",
    "merged_df = merged_df.drop(['N', 'other_IUPAC', '-', '?', 'invalid_nucleotides'], axis=1)\n",
    "merged_df"
   ]
  },
  {
   "cell_type": "code",
   "execution_count": null,
   "metadata": {},
   "outputs": [],
   "source": [
    "# Initialize the Dash app\n",
    "app = dash.Dash(__name__)\n",
    "\n",
    "# 1. Pie chart: Count and percentage of types\n",
    "type_counts = merged_df['type'].value_counts().reset_index()\n",
    "type_counts.columns = ['type', 'count']\n",
    "type_counts['percentage'] = (type_counts['count'] / type_counts['count'].sum()) * 100\n",
    "\n",
    "pie_chart = go.Figure(data=[go.Pie(\n",
    "    labels=type_counts['type'],\n",
    "    values=type_counts['count'],\n",
    "    hoverinfo='label+percent+value',\n",
    "    textinfo='label+percent+value'\n",
    ")])\n",
    "\n",
    "# Dash layout with pie chart and table\n",
    "app.layout = html.Div([\n",
    "    html.H1(\"Data Visualizations\"),\n",
    "    \n",
    "    # Pie Chart\n",
    "    dcc.Graph(\n",
    "        id='pie-chart',\n",
    "\n",
    "        figure=pie_chart.update_layout(width=650, height=650)\n",
    "    ), \n",
    "\n",
    "    # Table displaying the counts and percentages\n",
    "    html.H2(\"Pie Chart Data Table\"),\n",
    "    dash_table.DataTable(\n",
    "        id='pie-table',\n",
    "        columns=[\n",
    "            {\"name\": \"Type\", \"id\": \"type\"},\n",
    "            {\"name\": \"Count\", \"id\": \"count\"},\n",
    "            {\"name\": \"Percentage\", \"id\": \"percentage\", \"type\": \"numeric\", \"format\": {\"specifier\": \".2f\"}}\n",
    "        ],\n",
    "        data=type_counts.to_dict('records'),\n",
    "        style_table={'width': '50%', 'margin': 'auto'},\n",
    "        style_header={'fontWeight': 'bold', 'textAlign': 'center'},\n",
    "        style_cell={'textAlign': 'center'},\n",
    "    )\n",
    "])\n",
    "\n",
    "# Run the app\n",
    "if __name__ == '__main__':\n",
    "    app.run_server(debug=True)"
   ]
  },
  {
   "cell_type": "markdown",
   "metadata": {},
   "source": []
  },
  {
   "cell_type": "code",
   "execution_count": null,
   "metadata": {},
   "outputs": [],
   "source": []
  }
 ],
 "metadata": {
  "kernelspec": {
   "display_name": "bioenv",
   "language": "python",
   "name": "python3"
  },
  "language_info": {
   "codemirror_mode": {
    "name": "ipython",
    "version": 3
   },
   "file_extension": ".py",
   "mimetype": "text/x-python",
   "name": "python",
   "nbconvert_exporter": "python",
   "pygments_lexer": "ipython3",
   "version": "3.13.2"
  }
 },
 "nbformat": 4,
 "nbformat_minor": 2
}
