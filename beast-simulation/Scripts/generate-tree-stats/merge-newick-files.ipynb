{
 "cells": [
  {
   "cell_type": "code",
   "execution_count": 8,
   "id": "2866b206",
   "metadata": {},
   "outputs": [
    {
     "name": "stdout",
     "output_type": "stream",
     "text": [
      "Combined 20 trees into /Users/MiladM-Dev/Documents/1PhD/project-1-N450/git_trial/init-simulations-densitree/trial1/SEIDp-S10k-inf0.0001/combined_full_trees.trees\n"
     ]
    }
   ],
   "source": [
    "from Bio import Phylo\n",
    "import glob\n",
    "\n",
    "# List of your Nexus files\n",
    "tree_files = glob.glob(\"/Users/MiladM-Dev/Documents/1PhD/project-1-N450/git_trial/init-simulations-densitree/trial1/SEIDp-S10k-inf0.0001/*.full_collapsed.trees\")  # adjust folder/path\n",
    "\n",
    "output_file = \"/Users/MiladM-Dev/Documents/1PhD/project-1-N450/git_trial/init-simulations-densitree/trial1/SEIDp-S10k-inf0.0001/combined_full_trees.trees\"\n",
    "\n",
    "\n",
    "all_trees = []\n",
    "\n",
    "# Read all trees\n",
    "for file in tree_files:\n",
    "    # For Nexus files: use \"nexus\", for Newick: \"newick\"\n",
    "    trees = list(Phylo.parse(file, \"newick\"))  \n",
    "    all_trees.extend(trees)\n",
    "\n",
    "# Write all trees into one Nexus file\n",
    "Phylo.write(all_trees, output_file, \"newick\")\n",
    "\n",
    "print(f\"Combined {len(all_trees)} trees into {output_file}\")\n"
   ]
  }
 ],
 "metadata": {
  "kernelspec": {
   "display_name": "bioenv",
   "language": "python",
   "name": "python3"
  },
  "language_info": {
   "codemirror_mode": {
    "name": "ipython",
    "version": 3
   },
   "file_extension": ".py",
   "mimetype": "text/x-python",
   "name": "python",
   "nbconvert_exporter": "python",
   "pygments_lexer": "ipython3",
   "version": "3.13.2"
  }
 },
 "nbformat": 4,
 "nbformat_minor": 5
}
