{
 "cells": [
  {
   "cell_type": "code",
   "execution_count": 38,
   "id": "1a996bd7",
   "metadata": {},
   "outputs": [],
   "source": [
    "import pandas as pd\n",
    "import glob\n",
    "import os\n",
    "import yaml\n",
    "import matplotlib.pyplot as plt"
   ]
  },
  {
   "cell_type": "code",
   "execution_count": 32,
   "id": "95cc5f02",
   "metadata": {},
   "outputs": [
    {
     "data": {
      "application/vnd.microsoft.datawrangler.viewer.v0+json": {
       "columns": [
        {
         "name": "index",
         "rawType": "int64",
         "type": "integer"
        },
        {
         "name": "Sample",
         "rawType": "int64",
         "type": "integer"
        },
        {
         "name": "t",
         "rawType": "float64",
         "type": "float"
        },
        {
         "name": "population",
         "rawType": "object",
         "type": "string"
        },
        {
         "name": "index",
         "rawType": "int64",
         "type": "integer"
        },
        {
         "name": "value",
         "rawType": "float64",
         "type": "float"
        }
       ],
       "ref": "24cbef79-25e4-42c2-9657-9d6e630ab37e",
       "rows": [
        [
         "0",
         "0",
         "0.0",
         "R",
         "0",
         "0.0"
        ],
        [
         "1",
         "0",
         "0.0",
         "R",
         "1",
         "0.0"
        ],
        [
         "2",
         "0",
         "0.0",
         "S",
         "0",
         "10000.0"
        ],
        [
         "3",
         "0",
         "0.0",
         "S",
         "1",
         "10000.0"
        ],
        [
         "4",
         "0",
         "0.0",
         "E",
         "0",
         "0.0"
        ],
        [
         "5",
         "0",
         "0.0",
         "E",
         "1",
         "1.0"
        ],
        [
         "6",
         "0",
         "0.0",
         "I",
         "0",
         "0.0"
        ],
        [
         "7",
         "0",
         "0.0",
         "I",
         "1",
         "0.0"
        ],
        [
         "8",
         "0",
         "0.0",
         "sample",
         "0",
         "0.0"
        ],
        [
         "9",
         "0",
         "8.478698236447464",
         "R",
         "0",
         "0.0"
        ],
        [
         "10",
         "0",
         "8.478698236447464",
         "R",
         "1",
         "0.0"
        ],
        [
         "11",
         "0",
         "8.478698236447464",
         "S",
         "0",
         "10000.0"
        ],
        [
         "12",
         "0",
         "8.478698236447464",
         "S",
         "1",
         "10000.0"
        ],
        [
         "13",
         "0",
         "8.478698236447464",
         "E",
         "0",
         "0.0"
        ],
        [
         "14",
         "0",
         "8.478698236447464",
         "E",
         "1",
         "0.0"
        ],
        [
         "15",
         "0",
         "8.478698236447464",
         "I",
         "0",
         "0.0"
        ],
        [
         "16",
         "0",
         "8.478698236447464",
         "I",
         "1",
         "1.0"
        ],
        [
         "17",
         "0",
         "8.478698236447464",
         "sample",
         "0",
         "0.0"
        ],
        [
         "18",
         "0",
         "8.478885565695979",
         "R",
         "0",
         "0.0"
        ],
        [
         "19",
         "0",
         "8.478885565695979",
         "R",
         "1",
         "0.0"
        ],
        [
         "20",
         "0",
         "8.478885565695979",
         "S",
         "0",
         "10000.0"
        ],
        [
         "21",
         "0",
         "8.478885565695979",
         "S",
         "1",
         "9999.0"
        ],
        [
         "22",
         "0",
         "8.478885565695979",
         "E",
         "0",
         "0.0"
        ],
        [
         "23",
         "0",
         "8.478885565695979",
         "E",
         "1",
         "1.0"
        ],
        [
         "24",
         "0",
         "8.478885565695979",
         "I",
         "0",
         "0.0"
        ],
        [
         "25",
         "0",
         "8.478885565695979",
         "I",
         "1",
         "1.0"
        ],
        [
         "26",
         "0",
         "8.478885565695979",
         "sample",
         "0",
         "0.0"
        ],
        [
         "27",
         "0",
         "8.478962643194237",
         "R",
         "0",
         "0.0"
        ],
        [
         "28",
         "0",
         "8.478962643194237",
         "R",
         "1",
         "0.0"
        ],
        [
         "29",
         "0",
         "8.478962643194237",
         "S",
         "0",
         "10000.0"
        ],
        [
         "30",
         "0",
         "8.478962643194237",
         "S",
         "1",
         "9998.0"
        ],
        [
         "31",
         "0",
         "8.478962643194237",
         "E",
         "0",
         "0.0"
        ],
        [
         "32",
         "0",
         "8.478962643194237",
         "E",
         "1",
         "2.0"
        ],
        [
         "33",
         "0",
         "8.478962643194237",
         "I",
         "0",
         "0.0"
        ],
        [
         "34",
         "0",
         "8.478962643194237",
         "I",
         "1",
         "1.0"
        ],
        [
         "35",
         "0",
         "8.478962643194237",
         "sample",
         "0",
         "0.0"
        ],
        [
         "36",
         "0",
         "8.479624615283095",
         "R",
         "0",
         "0.0"
        ],
        [
         "37",
         "0",
         "8.479624615283095",
         "R",
         "1",
         "0.0"
        ],
        [
         "38",
         "0",
         "8.479624615283095",
         "S",
         "0",
         "10000.0"
        ],
        [
         "39",
         "0",
         "8.479624615283095",
         "S",
         "1",
         "9997.0"
        ],
        [
         "40",
         "0",
         "8.479624615283095",
         "E",
         "0",
         "0.0"
        ],
        [
         "41",
         "0",
         "8.479624615283095",
         "E",
         "1",
         "3.0"
        ],
        [
         "42",
         "0",
         "8.479624615283095",
         "I",
         "0",
         "0.0"
        ],
        [
         "43",
         "0",
         "8.479624615283095",
         "I",
         "1",
         "1.0"
        ],
        [
         "44",
         "0",
         "8.479624615283095",
         "sample",
         "0",
         "0.0"
        ],
        [
         "45",
         "0",
         "8.479633077132894",
         "R",
         "0",
         "0.0"
        ],
        [
         "46",
         "0",
         "8.479633077132894",
         "R",
         "1",
         "0.0"
        ],
        [
         "47",
         "0",
         "8.479633077132894",
         "S",
         "0",
         "10000.0"
        ],
        [
         "48",
         "0",
         "8.479633077132894",
         "S",
         "1",
         "9996.0"
        ],
        [
         "49",
         "0",
         "8.479633077132894",
         "E",
         "0",
         "0.0"
        ]
       ],
       "shape": {
        "columns": 5,
        "rows": 550746
       }
      },
      "text/html": [
       "<div>\n",
       "<style scoped>\n",
       "    .dataframe tbody tr th:only-of-type {\n",
       "        vertical-align: middle;\n",
       "    }\n",
       "\n",
       "    .dataframe tbody tr th {\n",
       "        vertical-align: top;\n",
       "    }\n",
       "\n",
       "    .dataframe thead th {\n",
       "        text-align: right;\n",
       "    }\n",
       "</style>\n",
       "<table border=\"1\" class=\"dataframe\">\n",
       "  <thead>\n",
       "    <tr style=\"text-align: right;\">\n",
       "      <th></th>\n",
       "      <th>Sample</th>\n",
       "      <th>t</th>\n",
       "      <th>population</th>\n",
       "      <th>index</th>\n",
       "      <th>value</th>\n",
       "    </tr>\n",
       "  </thead>\n",
       "  <tbody>\n",
       "    <tr>\n",
       "      <th>0</th>\n",
       "      <td>0</td>\n",
       "      <td>0.000000</td>\n",
       "      <td>R</td>\n",
       "      <td>0</td>\n",
       "      <td>0.0</td>\n",
       "    </tr>\n",
       "    <tr>\n",
       "      <th>1</th>\n",
       "      <td>0</td>\n",
       "      <td>0.000000</td>\n",
       "      <td>R</td>\n",
       "      <td>1</td>\n",
       "      <td>0.0</td>\n",
       "    </tr>\n",
       "    <tr>\n",
       "      <th>2</th>\n",
       "      <td>0</td>\n",
       "      <td>0.000000</td>\n",
       "      <td>S</td>\n",
       "      <td>0</td>\n",
       "      <td>10000.0</td>\n",
       "    </tr>\n",
       "    <tr>\n",
       "      <th>3</th>\n",
       "      <td>0</td>\n",
       "      <td>0.000000</td>\n",
       "      <td>S</td>\n",
       "      <td>1</td>\n",
       "      <td>10000.0</td>\n",
       "    </tr>\n",
       "    <tr>\n",
       "      <th>4</th>\n",
       "      <td>0</td>\n",
       "      <td>0.000000</td>\n",
       "      <td>E</td>\n",
       "      <td>0</td>\n",
       "      <td>0.0</td>\n",
       "    </tr>\n",
       "    <tr>\n",
       "      <th>...</th>\n",
       "      <td>...</td>\n",
       "      <td>...</td>\n",
       "      <td>...</td>\n",
       "      <td>...</td>\n",
       "      <td>...</td>\n",
       "    </tr>\n",
       "    <tr>\n",
       "      <th>550741</th>\n",
       "      <td>0</td>\n",
       "      <td>192.560067</td>\n",
       "      <td>E</td>\n",
       "      <td>0</td>\n",
       "      <td>0.0</td>\n",
       "    </tr>\n",
       "    <tr>\n",
       "      <th>550742</th>\n",
       "      <td>0</td>\n",
       "      <td>192.560067</td>\n",
       "      <td>E</td>\n",
       "      <td>1</td>\n",
       "      <td>0.0</td>\n",
       "    </tr>\n",
       "    <tr>\n",
       "      <th>550743</th>\n",
       "      <td>0</td>\n",
       "      <td>192.560067</td>\n",
       "      <td>I</td>\n",
       "      <td>0</td>\n",
       "      <td>0.0</td>\n",
       "    </tr>\n",
       "    <tr>\n",
       "      <th>550744</th>\n",
       "      <td>0</td>\n",
       "      <td>192.560067</td>\n",
       "      <td>I</td>\n",
       "      <td>1</td>\n",
       "      <td>0.0</td>\n",
       "    </tr>\n",
       "    <tr>\n",
       "      <th>550745</th>\n",
       "      <td>0</td>\n",
       "      <td>192.560067</td>\n",
       "      <td>sample</td>\n",
       "      <td>0</td>\n",
       "      <td>3461.0</td>\n",
       "    </tr>\n",
       "  </tbody>\n",
       "</table>\n",
       "<p>550746 rows × 5 columns</p>\n",
       "</div>"
      ],
      "text/plain": [
       "        Sample           t population  index    value\n",
       "0            0    0.000000          R      0      0.0\n",
       "1            0    0.000000          R      1      0.0\n",
       "2            0    0.000000          S      0  10000.0\n",
       "3            0    0.000000          S      1  10000.0\n",
       "4            0    0.000000          E      0      0.0\n",
       "...        ...         ...        ...    ...      ...\n",
       "550741       0  192.560067          E      0      0.0\n",
       "550742       0  192.560067          E      1      0.0\n",
       "550743       0  192.560067          I      0      0.0\n",
       "550744       0  192.560067          I      1      0.0\n",
       "550745       0  192.560067     sample      0   3461.0\n",
       "\n",
       "[550746 rows x 5 columns]"
      ]
     },
     "execution_count": 32,
     "metadata": {},
     "output_type": "execute_result"
    }
   ],
   "source": [
    "df = pd.read_csv(\"SEIR_P_M/init_trials/1/SEIR_p_m_d14_r10_1-1751907615839.traj\", sep='\\t')\n",
    "df"
   ]
  },
  {
   "cell_type": "code",
   "execution_count": null,
   "id": "3e6406ca",
   "metadata": {},
   "outputs": [
    {
     "ename": "TypeError",
     "evalue": "Figure.savefig() takes 2 positional arguments but 3 were given",
     "output_type": "error",
     "traceback": [
      "\u001b[0;31m---------------------------------------------------------------------------\u001b[0m",
      "\u001b[0;31mTypeError\u001b[0m                                 Traceback (most recent call last)",
      "Cell \u001b[0;32mIn[49], line 28\u001b[0m\n\u001b[1;32m     26\u001b[0m \u001b[38;5;66;03m# Save plot\u001b[39;00m\n\u001b[1;32m     27\u001b[0m plot_filename \u001b[38;5;241m=\u001b[39m \u001b[38;5;124m\"\u001b[39m\u001b[38;5;124mBar_timeseries_plot.png\u001b[39m\u001b[38;5;124m\"\u001b[39m\n\u001b[0;32m---> 28\u001b[0m \u001b[43mplt\u001b[49m\u001b[38;5;241;43m.\u001b[39;49m\u001b[43msavefig\u001b[49m\u001b[43m(\u001b[49m\u001b[43mconfig\u001b[49m\u001b[43m[\u001b[49m\u001b[38;5;124;43m\"\u001b[39;49m\u001b[38;5;124;43mFilePath\u001b[39;49m\u001b[38;5;124;43m\"\u001b[39;49m\u001b[43m]\u001b[49m\u001b[43m[\u001b[49m\u001b[38;5;124;43m\"\u001b[39;49m\u001b[38;5;124;43moutputFilePath\u001b[39;49m\u001b[38;5;124;43m\"\u001b[39;49m\u001b[43m]\u001b[49m\u001b[43m,\u001b[49m\u001b[43m \u001b[49m\u001b[43mplot_filename\u001b[49m\u001b[43m,\u001b[49m\u001b[43m \u001b[49m\u001b[43mdpi\u001b[49m\u001b[38;5;241;43m=\u001b[39;49m\u001b[38;5;241;43m300\u001b[39;49m\u001b[43m)\u001b[49m\n\u001b[1;32m     29\u001b[0m plt\u001b[38;5;241m.\u001b[39mclose()\n\u001b[1;32m     32\u001b[0m \u001b[38;5;66;03m# Save the DataFrame to a CSV file\u001b[39;00m\n\u001b[1;32m     33\u001b[0m \u001b[38;5;66;03m#Time_df.to_csv(os.path.join(config[\"outputFilePath\"], \"time_df.csv\"), index\u001b[39;00m\n",
      "File \u001b[0;32m/opt/anaconda3/envs/bioenv/lib/python3.13/site-packages/matplotlib/pyplot.py:1243\u001b[0m, in \u001b[0;36msavefig\u001b[0;34m(*args, **kwargs)\u001b[0m\n\u001b[1;32m   1240\u001b[0m fig \u001b[38;5;241m=\u001b[39m gcf()\n\u001b[1;32m   1241\u001b[0m \u001b[38;5;66;03m# savefig default implementation has no return, so mypy is unhappy\u001b[39;00m\n\u001b[1;32m   1242\u001b[0m \u001b[38;5;66;03m# presumably this is here because subclasses can return?\u001b[39;00m\n\u001b[0;32m-> 1243\u001b[0m res \u001b[38;5;241m=\u001b[39m \u001b[43mfig\u001b[49m\u001b[38;5;241;43m.\u001b[39;49m\u001b[43msavefig\u001b[49m\u001b[43m(\u001b[49m\u001b[38;5;241;43m*\u001b[39;49m\u001b[43margs\u001b[49m\u001b[43m,\u001b[49m\u001b[43m \u001b[49m\u001b[38;5;241;43m*\u001b[39;49m\u001b[38;5;241;43m*\u001b[39;49m\u001b[43mkwargs\u001b[49m\u001b[43m)\u001b[49m  \u001b[38;5;66;03m# type: ignore[func-returns-value]\u001b[39;00m\n\u001b[1;32m   1244\u001b[0m fig\u001b[38;5;241m.\u001b[39mcanvas\u001b[38;5;241m.\u001b[39mdraw_idle()  \u001b[38;5;66;03m# Need this if 'transparent=True', to reset colors.\u001b[39;00m\n\u001b[1;32m   1245\u001b[0m \u001b[38;5;28;01mreturn\u001b[39;00m res\n",
      "\u001b[0;31mTypeError\u001b[0m: Figure.savefig() takes 2 positional arguments but 3 were given"
     ]
    },
    {
     "data": {
      "image/png": "[encoded data removed]",
      "text/plain": [
       "<Figure size 1200x600 with 1 Axes>"
      ]
     },
     "metadata": {},
     "output_type": "display_data"
    }
   ],
   "source": [
    "with open('/Users/MiladM-Dev/Documents/1PhD/project-1-N450/git_trial/Scripts/xml_config.yaml', 'r') as file:\n",
    "    config = yaml.safe_load(file)\n",
    "\n",
    "# Find all .traj files\n",
    "traj_files = glob.glob(os.path.join(config[\"FilePath\"][\"outputFilePath\"], \"*.traj\"))\n",
    "\n",
    "\n",
    "results = []\n",
    "for file in traj_files:\n",
    "    df = pd.read_csv(file, sep='\\t')\n",
    "    results.append({\n",
    "        \"Days\": df['t'].max(),\n",
    "        \"File\": os.path.basename(file).replace('.traj', '')\n",
    "    })\n",
    "Time_df = pd.DataFrame(results).sort_values(by='Days', ascending=True)\n",
    "\n",
    "\n",
    "plt.figure(figsize=(12, 6))\n",
    "plt.bar(Time_df['File'], Time_df['Days'], color='skyblue')\n",
    "plt.xlabel('File Name')\n",
    "plt.ylabel('Days')\n",
    "plt.title('Days from Trajectory Files')\n",
    "plt.xticks(rotation=45, ha='right')\n",
    "plt.tight_layout()\n",
    "\n",
    "# Save plot\n",
    "plot_filename = config[\"FilePath\"][\"outputFilePath\"]+\"Bar_timeseries_plot.png\"\n",
    "plt.savefig(plot_filename, dpi=300)\n",
    "plt.close()\n",
    "\n",
    "\n",
    "# Save the DataFrame to a CSV file\n",
    "#Time_df.to_csv(os.path.join(config[\"outputFilePath\"], \"time_df.csv\"), index\n",
    "plt.figure(figsize=(12, 6))\n",
    "plt.hist(Time_df['Days'].dropna(), bins=10, color='skyblue', edgecolor='black')\n",
    "plt.xlabel('Days')\n",
    "plt.ylabel('Frequency')\n",
    "plt.title('Histogram of Days from Trajectory Files')\n",
    "plt.tight_layout()\n",
    "\n",
    "plot_filename = config[\"FilePath\"][\"outputFilePath\"]+\"Hist_timeseries_plot.png\"\n",
    "plt.savefig(config[\"FilePath\"][\"outputFilePath\"], plot_filename, dpi=300)\n",
    "plt.close()\n"
   ]
  },
  {
   "cell_type": "code",
   "execution_count": 50,
   "id": "2f460e13",
   "metadata": {},
   "outputs": [],
   "source": [
    "plt.figure(figsize=(12, 6))\n",
    "plt.bar(Time_df['File'], Time_df['Days'], color='skyblue')\n",
    "plt.xlabel('File Name')\n",
    "plt.ylabel('Days')\n",
    "plt.title('Days from Trajectory Files')\n",
    "plt.xticks(rotation=45, ha='right')\n",
    "plt.tight_layout()\n",
    "\n",
    "# Save plot\n",
    "plot_filename = config[\"FilePath\"][\"outputFilePath\"]+\"Bar_timeseries_plot.png\"\n",
    "plt.savefig(plot_filename, dpi=300)\n",
    "plt.close()"
   ]
  },
  {
   "cell_type": "code",
   "execution_count": null,
   "id": "6d053b32",
   "metadata": {},
   "outputs": [],
   "source": []
  }
 ],
 "metadata": {
  "kernelspec": {
   "display_name": "bioenv",
   "language": "python",
   "name": "python3"
  },
  "language_info": {
   "codemirror_mode": {
    "name": "ipython",
    "version": 3
   },
   "file_extension": ".py",
   "mimetype": "text/x-python",
   "name": "python",
   "nbconvert_exporter": "python",
   "pygments_lexer": "ipython3",
   "version": "3.13.2"
  }
 },
 "nbformat": 4,
 "nbformat_minor": 5
}
