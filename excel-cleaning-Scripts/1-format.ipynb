{
 "cells": [
  {
   "cell_type": "markdown",
   "metadata": {},
   "source": [
    "# Changing FASTA formats and Rename the files\n",
    "# 1. Check the files (FASTA & naming)\n",
    "#### The dataset is not homogenous, in other words, it has different naming system and different formats, so this jupyter will focus on standadrize the dataset\n",
    "https://biopython.org/wiki/SeqIO\n",
    "\n",
    "Download Fasta Validator to make sure that the conversion is successful\n",
    "```Python\n",
    "conda install -c bioconda py_fasta_validator\n",
    "```\n",
    "or\n",
    "```Python\n",
    "pip install py-fasta-validator\n",
    "```\n",
    "We will exit with the following return codes:\n",
    "\n",
    "```0``` this is a valid fasta file\n",
    "\n",
    "```1``` the first line does not start with a > (rule 1 violated).\n",
    "\n",
    "```2``` there are duplicate sequence identifiers in the file (rule 7 violated)\n",
    "\n",
    "```4``` there are characters in a sequence line other than [A-Za-z]"
   ]
  },
  {
   "cell_type": "markdown",
   "metadata": {},
   "source": [
    "0. Importation of packages:"
   ]
  },
  {
   "cell_type": "code",
   "execution_count": 10,
   "metadata": {},
   "outputs": [],
   "source": [
    "#!pip install py-fasta-validator"
   ]
  },
  {
   "cell_type": "code",
   "execution_count": 11,
   "metadata": {},
   "outputs": [],
   "source": [
    "import pandas as pd\n",
    "from Bio import SeqIO\n",
    "import glob\n",
    "import os\n",
    "import FastaValidator\n",
    "import subprocess"
   ]
  },
  {
   "cell_type": "markdown",
   "metadata": {},
   "source": [
    "## A. Change Formates to FASTA"
   ]
  },
  {
   "cell_type": "markdown",
   "metadata": {},
   "source": [
    "1. Output directory path"
   ]
  },
  {
   "cell_type": "code",
   "execution_count": 12,
   "metadata": {},
   "outputs": [],
   "source": [
    "#output_folder = input(\"Output directory:\")\n",
    "output_folder = \"/Users/MiladM-Dev/Documents/1PhD/Dataset_trials/D8_mimic/fasta\""
   ]
  },
  {
   "cell_type": "markdown",
   "metadata": {},
   "source": [
    "2. Convert gb to fasta"
   ]
  },
  {
   "cell_type": "code",
   "execution_count": 13,
   "metadata": {},
   "outputs": [
    {
     "name": "stdout",
     "output_type": "stream",
     "text": [
      "Converted /Users/MiladM-Dev/Documents/1PhD/Dataset_trials/D8_mimic/gb/13-00122Rsp.gb to /Users/MiladM-Dev/Documents/1PhD/Dataset_trials/D8_mimic/fasta/13-00122Rsp.fasta\n",
      "Converted /Users/MiladM-Dev/Documents/1PhD/Dataset_trials/D8_mimic/gb/13-00122Rsp copy.gb to /Users/MiladM-Dev/Documents/1PhD/Dataset_trials/D8_mimic/fasta/13-00122Rsp copy.fasta\n"
     ]
    }
   ],
   "source": [
    "# Input and output paths\n",
    "#input_folder = input(\"genebank directory:\")\n",
    "input_folder = \"/Users/MiladM-Dev/Documents/1PhD/Dataset_trials/D8_mimic/gb\"\n",
    "\n",
    "# Match all GenBank files in the input folder\n",
    "genbank_files = glob.glob(os.path.join(input_folder, \"*.gb\"))\n",
    "\n",
    "# Convert each GenBank file to FASTA\n",
    "for gb_file in genbank_files:\n",
    "    base_name = os.path.splitext(os.path.basename(gb_file))[0]  # Get the base file name\n",
    "    fasta_file = os.path.join(output_folder, f\"{base_name}.fasta\")\n",
    "    \n",
    "    SeqIO.convert(gb_file, \"genbank\", fasta_file, \"fasta\")\n",
    "    print(f\"Converted {gb_file} to {fasta_file}\")\n",
    "\n"
   ]
  },
  {
   "cell_type": "markdown",
   "metadata": {},
   "source": [
    "3. Convert txt to fasta"
   ]
  },
  {
   "cell_type": "code",
   "execution_count": 14,
   "metadata": {},
   "outputs": [
    {
     "name": "stdout",
     "output_type": "stream",
     "text": [
      "Converted /Users/MiladM-Dev/Documents/1PhD/Dataset_trials/D8_mimic/txt/07-00235.txt to /Users/MiladM-Dev/Documents/1PhD/Dataset_trials/D8_mimic/fasta/07-00235.fasta\n",
      "Converted /Users/MiladM-Dev/Documents/1PhD/Dataset_trials/D8_mimic/txt/07-00188.txt to /Users/MiladM-Dev/Documents/1PhD/Dataset_trials/D8_mimic/fasta/07-00188.fasta\n"
     ]
    }
   ],
   "source": [
    "#input_folder = input(\"genebank directory:\")\n",
    "input_folder = \"/Users/MiladM-Dev/Documents/1PhD/Dataset_trials/D8_mimic/txt\"\n",
    "\n",
    "\n",
    "def txt_to_fasta(input_file, output_file):\n",
    "\n",
    "    with open(input_file, 'r') as txt_file, open(output_file, 'w') as fasta_file:\n",
    "        for line in txt_file:\n",
    "            line = line.strip()\n",
    "            if not line:\n",
    "                continue  # Skip empty lines\n",
    "            if line.startswith(\">\"):\n",
    "                # If line starts with \">\", it's a header\n",
    "                fasta_file.write(f\"{line}\\n\")\n",
    "            else:\n",
    "                # Otherwise, treat it as a sequence\n",
    "                fasta_file.write(f\"{line}\\n\")\n",
    "\n",
    "# Example usage\n",
    "text_files = glob.glob(os.path.join(input_folder, \"*.txt\"))\n",
    "\n",
    "# Convert each GenBank file to FASTA\n",
    "for text_file in text_files:\n",
    "    base_name = os.path.splitext(os.path.basename(text_file))[0]  # Get the base file name\n",
    "    fasta_file = os.path.join(output_folder, f\"{base_name}.fasta\")\n",
    "    \n",
    "    txt_to_fasta(text_file, fasta_file)\n",
    "    print(f\"Converted {text_file} to {fasta_file}\")\n"
   ]
  },
  {
   "cell_type": "markdown",
   "metadata": {},
   "source": [
    "4. FASTA validator"
   ]
  },
  {
   "cell_type": "code",
   "execution_count": 6,
   "metadata": {},
   "outputs": [
    {
     "name": "stdout",
     "output_type": "stream",
     "text": [
      "/Users/MiladM-Dev/Documents/1PhD/Dataset_trials/D8_mimic/fasta/13-00122Rsp.fasta\n",
      "Exit code: 0\n",
      "/Users/MiladM-Dev/Documents/1PhD/Dataset_trials/D8_mimic/fasta/13-00122Rsp copy.fasta\n",
      "Exit code: 0\n",
      "/Users/MiladM-Dev/Documents/1PhD/Dataset_trials/D8_mimic/fasta/07-00235.fasta\n",
      "Exit code: 0\n",
      "/Users/MiladM-Dev/Documents/1PhD/Dataset_trials/D8_mimic/fasta/14-00356 R copy.fasta\n",
      "Exit code: 0\n",
      "/Users/MiladM-Dev/Documents/1PhD/Dataset_trials/D8_mimic/fasta/07-00188.fasta\n",
      "Exit code: 0\n",
      "/Users/MiladM-Dev/Documents/1PhD/Dataset_trials/D8_mimic/fasta/14-00356 R.fasta\n",
      "Exit code: 0\n"
     ]
    }
   ],
   "source": [
    "#fasta_dir = input(\"FASTA dir:\")\n",
    "fasta_dir = output_folder\n",
    "output_testfile = \"/Users/MiladM-Dev/Documents/1PhD/Dataset_trials/D8_mimic/fasta/validation_results.txt\"\n",
    "\n",
    "with open(output_testfile, \"w\") as out_file:\n",
    "    # Iterate over all .fasta files in the directory\n",
    "    for fasta_file in glob.glob(os.path.join(fasta_dir, \"*.fasta\")):\n",
    "        out_file.write(f\"{fasta_file}\\n\")\n",
    "        print(f\"{fasta_file}\")\n",
    "        \n",
    "        # Run the py_fasta_validator command\n",
    "        result = subprocess.run(\n",
    "            [\"py_fasta_validator\", \"-f\", fasta_file],\n",
    "            stdout=subprocess.PIPE,\n",
    "            stderr=subprocess.PIPE,\n",
    "            text=True\n",
    "        )\n",
    "        \n",
    "        # Print the validation output (stdout and stderr)\n",
    "        if result.stdout.strip():\n",
    "            out_file.write(f\"{result.stdout.strip()}\\n\")\n",
    "            print(result.stdout.strip())\n",
    "        if result.stderr.strip():\n",
    "            out_file.write(f\"{result.stderr.strip()}\\n\")\n",
    "            print(result.stderr.strip())\n",
    "        \n",
    "        # Print the exit code\n",
    "        out_file.write(f\"Exit code: {result.returncode}\\n\\n\")\n",
    "        print(f\"Exit code: {result.returncode}\")"
   ]
  },
  {
   "cell_type": "markdown",
   "metadata": {},
   "source": [
    "## B. Edit file name"
   ]
  },
  {
   "cell_type": "code",
   "execution_count": 15,
   "metadata": {},
   "outputs": [
    {
     "name": "stdout",
     "output_type": "stream",
     "text": [
      "/Users/MiladM-Dev/Documents/1PhD/Dataset_trials/D8_mimic/fasta\n"
     ]
    }
   ],
   "source": [
    "os.chdir(\"/Users/MiladM-Dev/Documents/1PhD/Dataset_trials/D8_mimic/fasta/\")\n",
    "print(os.getcwd())\n",
    " \n",
    "for count, f in enumerate(os.listdir()):\n",
    "    f_name = f.replace(\" \",\"\")\n",
    " \n",
    "    new_name = f'{f_name}'\n",
    "    os.rename(f, new_name)"
   ]
  },
  {
   "cell_type": "markdown",
   "metadata": {},
   "source": [
    "## C. Counting the sample names "
   ]
  },
  {
   "cell_type": "code",
   "execution_count": 16,
   "metadata": {},
   "outputs": [
    {
     "name": "stdout",
     "output_type": "stream",
     "text": [
      "String counts saved to /Users/MiladM-Dev/Documents/1PhD/Dataset_trials/D8_mimic/fasta/string_counts.csv\n"
     ]
    }
   ],
   "source": [
    "import os\n",
    "import csv\n",
    "from collections import Counter\n",
    "\n",
    "# Folder containing the files\n",
    "folder_dir = \"/Users/MiladM-Dev/Documents/1PhD/Dataset_trials/D8_mimic/fasta/\"\n",
    "\n",
    "# Extract strings from filenames and count occurrences\n",
    "def extract_and_count(folder_path):\n",
    "    string_counts = Counter()\n",
    "    \n",
    "    for filename in os.listdir(folder_path):\n",
    "        # Ensure we are working only with files\n",
    "        if os.path.isfile(os.path.join(folder_path, filename)):\n",
    "            # Split filename to extract the string part after numbers\n",
    "            # Assuming the format is similar to \"13-00125Rspcopy.fasta\"\n",
    "            base_name, _ = os.path.splitext(filename)  # Remove file extension\n",
    "            parts = base_name.split(\"-\", 1)  # Split at the first dash\n",
    "            \n",
    "            if len(parts) > 1:  # Ensure there is a string part after the dash\n",
    "                string_part = ''.join(filter(str.isalpha, parts[1]))  # Keep only the string part\n",
    "                string_counts[string_part] += 1\n",
    "\n",
    "    return string_counts\n",
    "\n",
    "# Write the counts to a CSV file\n",
    "def write_to_csv(output_file, counts):\n",
    "    with open(output_file, mode='w', newline='') as csv_file:\n",
    "        writer = csv.writer(csv_file)\n",
    "        writer.writerow([\"String\", \"Count\"])  # Write header\n",
    "        \n",
    "        for string, count in counts.items():\n",
    "            writer.writerow([string, count])  # Write each string and its count\n",
    "\n",
    "# Main execution\n",
    "if __name__ == \"__main__\":\n",
    "    counts = extract_and_count(folder_dir)\n",
    "    output_csv = os.path.join(folder_dir, \"string_counts.csv\")\n",
    "    write_to_csv(output_csv, counts)\n",
    "    print(f\"String counts saved to {output_csv}\")\n"
   ]
  },
  {
   "cell_type": "code",
   "execution_count": null,
   "metadata": {},
   "outputs": [],
   "source": []
  }
 ],
 "metadata": {
  "kernelspec": {
   "display_name": "base",
   "language": "python",
   "name": "python3"
  },
  "language_info": {
   "codemirror_mode": {
    "name": "ipython",
    "version": 3
   },
   "file_extension": ".py",
   "mimetype": "text/x-python",
   "name": "python",
   "nbconvert_exporter": "python",
   "pygments_lexer": "ipython3",
   "version": "3.12.4"
  }
 },
 "nbformat": 4,
 "nbformat_minor": 2
}
