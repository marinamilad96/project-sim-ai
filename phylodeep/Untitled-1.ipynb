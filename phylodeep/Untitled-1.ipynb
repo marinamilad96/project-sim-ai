{
 "cells": [
  {
   "cell_type": "code",
   "execution_count": 4,
   "id": "9d5d36ed",
   "metadata": {},
   "outputs": [
    {
     "data": {
      "text/plain": [
       "array([0, 1, 2, 3, 4])"
      ]
     },
     "execution_count": 4,
     "metadata": {},
     "output_type": "execute_result"
    }
   ],
   "source": [
    "import numpy as np\n",
    "from phylo2vec import from_newick, to_newick\n",
    "\n",
    "# Convert a vector to Newick string\n",
    "v = np.array([0, 1, 2, 3, 4])\n",
    "newick = to_newick(v)  # '(0,(1,(2,(3,(4,5)6)7)8)9)10;'\n",
    "\n",
    "# Convert Newick string back to vector\n",
    "v_converted = from_newick(newick)  # array([0, 1, 2, 3, 4], dtype=int16)\n",
    "v_converted"
   ]
  },
  {
   "cell_type": "code",
   "execution_count": 9,
   "id": "c709a474",
   "metadata": {},
   "outputs": [
    {
     "data": {
      "text/plain": [
       "array([0, 2, 3, 3, 4])"
      ]
     },
     "execution_count": 9,
     "metadata": {},
     "output_type": "execute_result"
    }
   ],
   "source": [
    "from phylo2vec.utils.vector import add_leaf, remove_leaf, reroot_at_random\n",
    "\n",
    "# Add a leaf to an existing tree\n",
    "v_new = add_leaf(v, 0,2)  # Add a leaf to the third position\n",
    "\n",
    "# Remove a leaf\n",
    "v_reduced = remove_leaf(v, 1)  # Remove the second leaf\n",
    "\n",
    "# Random rerooting\n",
    "v_rerooted = reroot_at_random(v)\n",
    "v_rerooted"
   ]
  },
  {
   "cell_type": "code",
   "execution_count": null,
   "id": "eb27ca6a",
   "metadata": {},
   "outputs": [],
   "source": []
  }
 ],
 "metadata": {
  "kernelspec": {
   "display_name": "base",
   "language": "python",
   "name": "python3"
  },
  "language_info": {
   "codemirror_mode": {
    "name": "ipython",
    "version": 3
   },
   "file_extension": ".py",
   "mimetype": "text/x-python",
   "name": "python",
   "nbconvert_exporter": "python",
   "pygments_lexer": "ipython3",
   "version": "3.12.4"
  }
 },
 "nbformat": 4,
 "nbformat_minor": 5
}
